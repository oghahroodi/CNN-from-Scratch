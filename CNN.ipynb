{
  "nbformat": 4,
  "nbformat_minor": 0,
  "metadata": {
    "colab": {
      "name": "part_02.ipynb",
      "provenance": [],
      "collapsed_sections": [
        "0mw5Gp8Lp9gG"
      ]
    },
    "kernelspec": {
      "name": "python3",
      "display_name": "Python 3"
    },
    "accelerator": "GPU"
  },
  "cells": [
    {
      "cell_type": "markdown",
      "metadata": {
        "id": "view-in-github"
      },
      "source": [
        "<a href=\"https://colab.research.google.com/github/kazemnejad/tensorflow-2-tutorial/blob/master/part_02.ipynb\" target=\"_parent\"><img src=\"https://colab.research.google.com/assets/colab-badge.svg\" alt=\"Open In Colab\"/></a>"
      ]
    },
    {
      "cell_type": "markdown",
      "metadata": {
        "id": "YS8LoLU0OQha"
      },
      "source": [
        "# Tensorflow 2.0 Tutorial: Part #2\n",
        "\n",
        "\n",
        "Deep Learning Group, Iran University of Science and Technology,\n",
        "\n",
        "*   Last Update: Dec 2019\n",
        "*   Official Page: https://github.com/iust-deep-learning/tensorflow-2-tutorial\n",
        "\n",
        "\n",
        "\n",
        "\n",
        "\n",
        "---\n",
        "\n",
        "\n"
      ]
    },
    {
      "cell_type": "markdown",
      "metadata": {
        "id": "gSj39l8gcIA8"
      },
      "source": [
        "Please run the following cell before going through the rest of the tutorial."
      ]
    },
    {
      "cell_type": "code",
      "metadata": {
        "id": "RFC1dEyMcFq2",
        "cellView": "both",
        "colab": {
          "base_uri": "https://localhost:8080/",
          "height": 51
        },
        "outputId": "b68d57a0-0b06-47e8-8414-0b7c62f0a310"
      },
      "source": [
        "from __future__ import absolute_import, division, print_function, unicode_literals\n",
        "\n",
        "# Install TensorFlow\n",
        "try:\n",
        "  # %tensorflow_version only exists in Colab.\n",
        "  %tensorflow_version 2.x\n",
        "except Exception:\n",
        "  pass\n",
        "\n",
        "import tensorflow as tf\n",
        "import numpy as np\n",
        "print(tf.__version__)\n",
        "\n",
        "from pprint import pprint"
      ],
      "execution_count": null,
      "outputs": [
        {
          "output_type": "stream",
          "text": [
            "TensorFlow 2.x selected.\n",
            "2.1.0-rc1\n"
          ],
          "name": "stdout"
        }
      ]
    },
    {
      "cell_type": "markdown",
      "metadata": {
        "id": "eGHQmDwsZhWh"
      },
      "source": [
        "## High-level APIs\n",
        "\n",
        "---\n",
        "\n"
      ]
    },
    {
      "cell_type": "markdown",
      "metadata": {
        "id": "tzJ99c_QhPI2"
      },
      "source": [
        "### Exercise #1: Product Review Classifier\n",
        "Suppose that we have an online store (e.g., Amazon), and users can put a comment on products if they have bought them. Then, we want to find 1) whether the user would like to recommend the product 2) the sentiment of that review. Your model is given the title, the body, and the category of the review.\n",
        "Here are the details of inputs and outputs:\n",
        "\n",
        "Inputs\n",
        "-  Title: Vectorized & padded input (can consist of multiple word)\n",
        "-  Body: Vectorized & padded review content\n",
        "-  Product Category: one category out of 12 (one-hot representation)\n",
        "\n",
        "Output\n",
        "-  Sentiment score: 3 possibilities (bad, medium, good)\n",
        "-  Recommend: Wether the user recommends the product\n",
        "\n"
      ]
    },
    {
      "cell_type": "code",
      "metadata": {
        "id": "y8REnvFnnMuk",
        "colab": {
          "base_uri": "https://localhost:8080/",
          "height": 232
        },
        "outputId": "99b69cf9-0101-4d99-95a2-ed833b51891c"
      },
      "source": [
        "num_categories = 12\n",
        "\n",
        "title_input = tf.keras.Input(shape=(None,), dtype='int32') # Variable-length sequence of ints\n",
        "body_input = tf.keras.Input(shape=(None,), dtype='int32') # Variable-length sequence of ints\n",
        "cat_input = tf.keras.Input(shape=(num_categories,)) # One-hot representation (dtype=tf.float32)\n",
        "emb = tf.keras.layers.Embedding(input_dim=5000,output_dim=128,mask_zero=True)\n",
        "x1 = emb(title_input)\n",
        "x2 = emb(body_input)\n",
        "\n",
        "\n",
        "\n",
        "\n",
        "encoded_title = tf.keras.layers.LSTM(100)(x1) # 100-d representation\n",
        "encoded_body = tf.keras.layers.LSTM(100)(x2) # 100-d representation\n",
        "\n",
        "merge = tf.keras.layers.concatenate([encoded_title,encoded_body,cat_input])\n",
        "\n",
        "output_sentiment = tf.keras.layers.Dense(3, activation='sigmoid')(merge) # Model prediction of sentiment\n",
        "output_recom = tf.keras.layers.Dense(1, activation='relu')(merge) # Model prediction of the user's recommendation status\n",
        "\n",
        "model = tf.keras.Model(inputs=[title_input,body_input,cat_input],outputs=[output_sentiment,output_recom]) # Final Model\n",
        "tf.keras.utils.plot_model(model, 'model.png', show_shapes=True)"
      ],
      "execution_count": null,
      "outputs": [
        {
          "output_type": "error",
          "ename": "NameError",
          "evalue": "ignored",
          "traceback": [
            "\u001b[0;31m---------------------------------------------------------------------------\u001b[0m",
            "\u001b[0;31mNameError\u001b[0m                                 Traceback (most recent call last)",
            "\u001b[0;32m<ipython-input-1-e4f217a795b4>\u001b[0m in \u001b[0;36m<module>\u001b[0;34m()\u001b[0m\n\u001b[1;32m      1\u001b[0m \u001b[0mnum_categories\u001b[0m \u001b[0;34m=\u001b[0m \u001b[0;36m12\u001b[0m\u001b[0;34m\u001b[0m\u001b[0;34m\u001b[0m\u001b[0m\n\u001b[1;32m      2\u001b[0m \u001b[0;34m\u001b[0m\u001b[0m\n\u001b[0;32m----> 3\u001b[0;31m \u001b[0mtitle_input\u001b[0m \u001b[0;34m=\u001b[0m \u001b[0mtf\u001b[0m\u001b[0;34m.\u001b[0m\u001b[0mkeras\u001b[0m\u001b[0;34m.\u001b[0m\u001b[0mInput\u001b[0m\u001b[0;34m(\u001b[0m\u001b[0mshape\u001b[0m\u001b[0;34m=\u001b[0m\u001b[0;34m(\u001b[0m\u001b[0;32mNone\u001b[0m\u001b[0;34m,\u001b[0m\u001b[0;34m)\u001b[0m\u001b[0;34m,\u001b[0m \u001b[0mdtype\u001b[0m\u001b[0;34m=\u001b[0m\u001b[0;34m'int32'\u001b[0m\u001b[0;34m)\u001b[0m \u001b[0;31m# Variable-length sequence of ints\u001b[0m\u001b[0;34m\u001b[0m\u001b[0;34m\u001b[0m\u001b[0m\n\u001b[0m\u001b[1;32m      4\u001b[0m \u001b[0mbody_input\u001b[0m \u001b[0;34m=\u001b[0m \u001b[0mtf\u001b[0m\u001b[0;34m.\u001b[0m\u001b[0mkeras\u001b[0m\u001b[0;34m.\u001b[0m\u001b[0mInput\u001b[0m\u001b[0;34m(\u001b[0m\u001b[0mshape\u001b[0m\u001b[0;34m=\u001b[0m\u001b[0;34m(\u001b[0m\u001b[0;32mNone\u001b[0m\u001b[0;34m,\u001b[0m\u001b[0;34m)\u001b[0m\u001b[0;34m,\u001b[0m \u001b[0mdtype\u001b[0m\u001b[0;34m=\u001b[0m\u001b[0;34m'int32'\u001b[0m\u001b[0;34m)\u001b[0m \u001b[0;31m# Variable-length sequence of ints\u001b[0m\u001b[0;34m\u001b[0m\u001b[0;34m\u001b[0m\u001b[0m\n\u001b[1;32m      5\u001b[0m \u001b[0mcat_input\u001b[0m \u001b[0;34m=\u001b[0m \u001b[0mtf\u001b[0m\u001b[0;34m.\u001b[0m\u001b[0mkeras\u001b[0m\u001b[0;34m.\u001b[0m\u001b[0mInput\u001b[0m\u001b[0;34m(\u001b[0m\u001b[0mshape\u001b[0m\u001b[0;34m=\u001b[0m\u001b[0;34m(\u001b[0m\u001b[0mnum_categories\u001b[0m\u001b[0;34m,\u001b[0m\u001b[0;34m)\u001b[0m\u001b[0;34m)\u001b[0m \u001b[0;31m# One-hot representation (dtype=tf.float32)\u001b[0m\u001b[0;34m\u001b[0m\u001b[0;34m\u001b[0m\u001b[0m\n",
            "\u001b[0;31mNameError\u001b[0m: name 'tf' is not defined"
          ]
        }
      ]
    },
    {
      "cell_type": "code",
      "metadata": {
        "id": "Doiu6tavfjWA"
      },
      "source": [
        "tf.keras.utils.plot_model(model, 'model.png', show_shapes=True)"
      ],
      "execution_count": null,
      "outputs": []
    },
    {
      "cell_type": "code",
      "metadata": {
        "id": "NKl9MwSCowag",
        "cellView": "both",
        "colab": {
          "base_uri": "https://localhost:8080/",
          "height": 533
        },
        "outputId": "15abfce5-2079-4c28-e42d-34b803749ad3"
      },
      "source": [
        "# Check yours against the following plot"
      ],
      "execution_count": null,
      "outputs": [
        {
          "output_type": "execute_result",
          "data": {
            "image/png": "[encoded data removed]",
            "text/plain": [
              "<IPython.core.display.Image object>"
            ]
          },
          "metadata": {
            "tags": []
          },
          "execution_count": 12
        }
      ]
    },
    {
      "cell_type": "markdown",
      "metadata": {
        "id": "0mw5Gp8Lp9gG"
      },
      "source": [
        "### Exercise #2: Simulate 10 throwings of one die and one coin.\n",
        "Another technique that originates from Computer Vision is called Max pooling. As you might remember, this technique reduces the impact of spatial information in the image. For example, If your CNN says, \"Yay! I found a wheel at the position (x,y).\", your Max-pooling will convert this sentence to \"Yay! I found a wheel in this image.\"  Intuitively We can use the max-pooling procedure in any configuration beside an image. Here is an example of Max-pooling application in recurrent networks:\n",
        "\n",
        "<p align=\"center\"><img src=\"https://iust-deep-learning.github.io/972/static_files/assignments/asg05_assets/05_rnn_max_pooling.png\" width=\"450\" />   \n",
        "</p>\n",
        "<p align=\"center\">Max-pooling through an RNN's hidden states.  </p>\n",
        "\n",
        "In this setup, we'd like to perform max-pooling over the hidden states $\\hat{h} = MaxPool([h^{(1)}, ..., h^{(n)}])$ where $\\hat{h}$ is the max-pooled version. Every dim of $\\hat{h}$ is the maximum of that particular dim across all of the hidden states.\n",
        "\n",
        "$$\n",
        "\\hat{h}_i =\\max_{1\\le k \\le n} h^{(k)}_i\n",
        "$$\n",
        "\n",
        "Although the default Keras framework provides the implementation, it lacks the masking support. Implement this mechanism as a Keras layer."
      ]
    },
    {
      "cell_type": "code",
      "metadata": {
        "id": "6ERImAmIs_Zj"
      },
      "source": [
        "class MaskedGlobalMaxPooling1D(tf.keras.layers.Layer):\n",
        "  def call(self, inputs, mask=None):\n",
        "    \"\"\"\n",
        "    Args:\n",
        "      inputs (Tensor(dtype=float32)): shape = [batch, timesteps, featurs]\n",
        "      mask (Tensor(dtype=bool)): shape = [batch, timesteps]\n",
        "      \n",
        "    Returns\n",
        "      output (Tensor(dtype=float32)): shape = [batch, features]\n",
        "      \n",
        "    Hint: tf.where, tf.tile, tf.math.reduce_max could be helpful.\n",
        "    \"\"\"\n",
        "    output = None\n",
        "\n",
        "    ########################################\n",
        "    #     Put your implementation here     #\n",
        "    ########################################\n",
        "    \n",
        "    return output"
      ],
      "execution_count": null,
      "outputs": []
    },
    {
      "cell_type": "markdown",
      "metadata": {
        "id": "7CCdZwPIwH3J"
      },
      "source": [
        "Test your implementation"
      ]
    },
    {
      "cell_type": "code",
      "metadata": {
        "id": "on8-saPvwKxG",
        "cellView": "both"
      },
      "source": [
        "import numpy as np\n",
        "\n",
        "seq = tf.constant( [ \n",
        "    [[1, 3],\n",
        "     [4, -2],\n",
        "     [0, 11]],\n",
        "    \n",
        "    [[9, -3],\n",
        "     [8, -2],\n",
        "     [100, -5]]\n",
        "], dtype=tf.float32)\n",
        "mask = tf.constant([\n",
        "    [True, True, True],\n",
        "    [True, True, False]\n",
        "], dtype=tf.bool)\n",
        "\n",
        "max_pooled = MaskedGlobalMaxPooling1D()(seq, mask=mask)\n",
        "\n",
        "print(max_pooled)\n",
        "assert np.all(max_pooled.numpy() == np.array([[ 4., 11.],\n",
        "       [ 9., -2.]]))\n",
        "print(\"Passed!\")"
      ],
      "execution_count": null,
      "outputs": []
    },
    {
      "cell_type": "markdown",
      "metadata": {
        "id": "9bZ6N-jxiCFr"
      },
      "source": [
        "## Final Assignment: Low-level MNIST CNN-Classifier\n",
        "\n",
        "---\n",
        "\n"
      ]
    },
    {
      "cell_type": "markdown",
      "metadata": {
        "id": "SJgFkqhCXKAJ"
      },
      "source": [
        "We have implemented an MNIST classifier several times. However, we want to implement a multi-layer CNN classifier using raw TensorFlow operations and matrix multiplication. No pre-defined CNN blocks are allowed. Moreover, you should organize your model using TF 2.0 Model sub-classing APIs (your assignment will be evaluated based on the cleanness and your effective usages of high-level Model APIs). Additionally, the only available training option is the TF’s GradientTape.\n",
        "\n",
        "Assignments criteria:\n",
        "* Matrix implementation of a convolutional layer.\n",
        "* Model organization using TF 2.0 sub-classing API\n",
        "* Model training using TF 2.0 GradientTape\n",
        "\n",
        "*Hint: You may refer to [here](https://medium.com/@_init_/an-illustrated-explanation-of-performing-2d-convolutions-using-matrix-multiplications-1e8de8cd2544) to rewrite 2D Convolutions in terms of matrix multiplications.*"
      ]
    },
    {
      "cell_type": "code",
      "metadata": {
        "id": "RMUnRMekYoUQ"
      },
      "source": [
        "# from tensorflow.keras.datasets import mnist\n",
        "# (x_train, y_train), (x_test, y_test) = mnist.load_data()\n",
        "# x_train, x_test = np.array(x_train, np.float32), np.array(x_test, np.float32)\n",
        "# x_train, x_test = x_train / 255., x_test / 255.\n",
        "\n",
        "# num_classes = 10\n",
        "\n",
        "# lr = 0.001\n",
        "# steps = 200\n",
        "# batch_size = 128\n",
        "# display_step = 10\n",
        "\n",
        "\n",
        "# conv1_filters = 32\n",
        "# conv2_filters = 64\n",
        "# fc1_units = 1024\n",
        "\n",
        "\n",
        "# train_data = tf.data.Dataset.from_tensor_slices((x_train, y_train))\n",
        "# train_data = train_data.repeat().shuffle(5000).batch(batch_size).prefetch(1)\n",
        "\n",
        "# def matrix2vec(input):\n",
        "#     h, w = input.shape\n",
        "#     output_vector = np.zeros(h*w, dtype=input.dtype)\n",
        "#     input = np.flipud(input) \n",
        "#     for i,row in enumerate(input):\n",
        "#         st = i*w\n",
        "#         nd = st + w\n",
        "#         output_vector[st:nd] = row   \n",
        "#     return output_vector\n",
        "\n",
        "\n",
        "# def vec2matrix(input, output_shape):\n",
        "#     h, w = output_shape\n",
        "#     output = np.zeros(output_shape, dtype=input.dtype)\n",
        "#     for i in range(h):\n",
        "#         st = i*w\n",
        "#         nd = st + w\n",
        "#         output[i, :] = input[st:nd]\n",
        "#     output=np.flipud(output)\n",
        "#     return output\n",
        "\n",
        "\n",
        "# def conv_with_mul(I, F):\n",
        "#     print(I.shape)\n",
        "#     print(F.shape)\n",
        "#     _,  I_row_num, I_col_num = I.shape\n",
        "#     F_row_num, F_col_num, _, _ = F.shape\n",
        "\n",
        "#     output_row_num = I_row_num + F_row_num - 1\n",
        "#     output_col_num = I_col_num + F_col_num - 1\n",
        "\n",
        "#     F_zero_padded = np.pad(F, ((output_row_num - F_row_num, 0),\n",
        "#                                (0, output_col_num - F_col_num)),\n",
        "#                             'constant', constant_values=0)\n",
        "\n",
        "#     toeplitz_list = []\n",
        "#     for i in range(F_zero_padded.shape[0]-1, -1, -1):\n",
        "#         c = F_zero_padded[i, :]\n",
        "#         r = np.r_[c[0], np.zeros(I_col_num-1)]\n",
        "#         toeplitz_m = toeplitz(c,r)\n",
        "#         toeplitz_list.append(toeplitz_m)\n",
        "\n",
        "#     c = range(1, F_zero_padded.shape[0]+1)\n",
        "#     r = np.r_[c[0], np.zeros(I_row_num-1, dtype=int)]\n",
        "#     doubly_indices = toeplitz(c, r)\n",
        "\n",
        "#     toeplitz_shape = toeplitz_list[0].shape\n",
        "#     h = toeplitz_shape[0]*doubly_indices.shape[0]\n",
        "#     w = toeplitz_shape[1]*doubly_indices.shape[1]\n",
        "#     doubly_blocked_shape = [h, w]\n",
        "#     doubly_blocked = np.zeros(doubly_blocked_shape)\n",
        "\n",
        "#     b_h, b_w = toeplitz_shape\n",
        "#     for i in range(doubly_indices.shape[0]):\n",
        "#         for j in range(doubly_indices.shape[1]):\n",
        "#             start_i = i * b_h\n",
        "#             start_j = j * b_w\n",
        "#             end_i = start_i + b_h\n",
        "#             end_j = start_j + b_w\n",
        "#             doubly_blocked[start_i: end_i, start_j:end_j] = toeplitz_list[doubly_indices[i,j]-1]\n",
        "\n",
        "#     vectorized_I = matrix2vec(I)\n",
        "    \n",
        "#     result_vector = np.matmul(doubly_blocked, vectorized_I)\n",
        "\n",
        "#     out_shape = [output_row_num, output_col_num]\n",
        "#     output = vec2matrix(result_vector, out_shape)\n",
        "#     return output\n",
        "\n",
        "\n",
        "\n",
        "# def conv2d(x, W, b, strides=1):\n",
        "#     x = conv_with_mul(x, W)\n",
        "#     x = tf.nn.bias_add(x, b)\n",
        "#     return tf.nn.relu(x)\n",
        "\n",
        "# def maxpool2d(x, k=2):\n",
        "#     return tf.nn.max_pool(x, ksize=[1, k, k, 1], strides=[1, k, k, 1], padding='SAME')\n",
        "\n",
        "\n",
        "# random_normal = tf.initializers.RandomNormal()\n",
        "\n",
        "# weights = {\n",
        "#     'w1': tf.Variable(random_normal([5, 5, 1, conv1_filters])),\n",
        "#     'w2': tf.Variable(random_normal([5, 5, conv1_filters, conv2_filters])),\n",
        "#     'w3': tf.Variable(random_normal([7*7*64, fc1_units])),\n",
        "#     'out': tf.Variable(random_normal([fc1_units, num_classes]))\n",
        "# }\n",
        "\n",
        "# biases = {\n",
        "#     'b1': tf.Variable(tf.zeros([conv1_filters])),\n",
        "#     'b2': tf.Variable(tf.zeros([conv2_filters])),\n",
        "#     'b3': tf.Variable(tf.zeros([fc1_units])),\n",
        "#     'out': tf.Variable(tf.zeros([num_classes]))\n",
        "# }\n",
        "\n",
        "\n",
        "# def conv_net(x):\n",
        "#     x = tf.reshape(x, [-1, 28, 28, 1])\n",
        "#     conv1 = conv2d(x, weights['w1'], biases['b1'])\n",
        "#     conv1 = maxpool2d(conv1, k=2)\n",
        "#     conv2 = conv2d(conv1, weights['w2'], biases['b2'])\n",
        "#     conv2 = maxpool2d(conv2, k=2)\n",
        "#     fc1 = tf.reshape(conv2, [-1, weights['w1'].get_shape().as_list()[0]])\n",
        "#     fc1 = tf.add(tf.matmul(fc1, weights['w1']), biases['b1'])\n",
        "#     fc1 = tf.nn.relu(fc1)\n",
        "#     out = tf.add(tf.matmul(fc1, weights['out']), biases['out'])\n",
        "#     return tf.nn.softmax(out)\n",
        "\n",
        "# def cross_entropy(y_pred, y_true):\n",
        "#     y_true = tf.one_hot(y_true, depth=num_classes)\n",
        "#     y_pred = tf.clip_by_value(y_pred, 1e-9, 1.)\n",
        "#     return tf.reduce_mean(-tf.reduce_sum(y_true * tf.math.log(y_pred)))\n",
        "\n",
        "# def accuracy(y_pred, y_true):\n",
        "#     correct_prediction = tf.equal(tf.argmax(y_pred, 1), tf.cast(y_true, tf.int64))\n",
        "#     return tf.reduce_mean(tf.cast(correct_prediction, tf.float32), axis=-1)\n",
        "\n",
        "# optimizer = tf.optimizers.Adam(lr)\n",
        "\n",
        "# def run_optimization(x, y):\n",
        "#     with tf.GradientTape() as g:\n",
        "#         pred = conv_net(x)\n",
        "#         loss = cross_entropy(pred, y)\n",
        "#     trainable_variables = list(weights.values()) + list(biases.values())\n",
        "\n",
        "#     gradients = g.gradient(loss, trainable_variables)\n",
        "    \n",
        "#     optimizer.apply_gradients(zip(gradients, trainable_variables))\n",
        "\n",
        "# for step, (batch_x, batch_y) in enumerate(train_data.take(steps), 1):\n",
        "#     run_optimization(batch_x, batch_y)\n",
        "    \n",
        "#     if step % display_step == 0:\n",
        "#         pred = conv_net(batch_x)\n",
        "#         loss = cross_entropy(pred, batch_y)\n",
        "#         acc = accuracy(pred, batch_y)\n",
        "#         print(\"step: %i, loss: %f, accuracy: %f\" % (step, loss, acc))\n",
        "\n",
        "# pred = conv_net(x_test)\n",
        "# print(\"Test Accuracy: %f\" % accuracy(pred, y_test))\n",
        "\n"
      ],
      "execution_count": null,
      "outputs": []
    },
    {
      "cell_type": "code",
      "metadata": {
        "id": "pytPdGzSxI6H"
      },
      "source": [
        "import numpy as np\n",
        "from scipy.linalg import toeplitz\n",
        "\n",
        "class conv2d(tf.keras.layers.Layer):\n",
        "    def __init__(self, filters, kernel_size):\n",
        "        super(conv2d,self).__init__()\n",
        "        self.filters = filters\n",
        "        self.kernel_size = kernel_size\n",
        "\n",
        "    def build(self, input_shape):\n",
        "        # self.b = self.add_weight(shape=(self.filters),initializer='zeros', trainable=True)\n",
        "        # self.w = tf.zeros(shape=(self.kernel_size))\n",
        "        # for i in range(self.filters):\n",
        "        #     self.w = tf.concat([self.w,self.add_weight(shape=(self.kernel_size), initializer='random_normal', trainable=True)],axis=0)\n",
        "        # print(self.w.shape)\n",
        "        self.w = tf.zeros(shape=(self.kernel_size))\n",
        "        for i in range(self.filters):\n",
        "            self.w = tf.concat([self.w, self.add_weight(shape=self.kernel_size, initializer='random_normal', trainable=True)], axis=0)\n",
        "        self.w = self.w[self.kernel_size[0]:]\n",
        "        # print(self.w)\n",
        "\n",
        "    def call(self, input):\n",
        "        def _convolution_with_mul(I, F):\n",
        "            I_row_num, I_col_num = I.shape \n",
        "            F_row_num, F_col_num = F.shape\n",
        "            output_row_num = I_row_num + F_row_num - 1\n",
        "            output_col_num = I_col_num + F_col_num - 1\n",
        "            F_zero_padded = tf.pad(F, ((output_row_num - F_row_num, 0),\n",
        "                                    (0, output_col_num - F_col_num)),\n",
        "                                    'constant', constant_values=0)\n",
        "            toeplitz_list = []\n",
        "            for i in range(F_zero_padded.shape[0]-1, -1, -1):\n",
        "                c = F_zero_padded[i, :]\n",
        "                r = np.r_[c[0], np.zeros(I_col_num-1)]\n",
        "                toeplitz_m = toeplitz(c,r)\n",
        "                toeplitz_list.append(toeplitz_m)\n",
        "            c = range(1, F_zero_padded.shape[0]+1)\n",
        "            r = np.r_[c[0], np.zeros(I_row_num-1, dtype=int)]\n",
        "            doubly_indices = toeplitz(c, r)\n",
        "            toeplitz_shape = toeplitz_list[0].shape \n",
        "            h = toeplitz_shape[0]*doubly_indices.shape[0]\n",
        "            w = toeplitz_shape[1]*doubly_indices.shape[1]\n",
        "            doubly_blocked_shape = [h, w]\n",
        "            doubly_blocked = np.zeros(doubly_blocked_shape)\n",
        "            b_h, b_w = toeplitz_shape \n",
        "            for i in range(doubly_indices.shape[0]):\n",
        "                for j in range(doubly_indices.shape[1]):\n",
        "                    start_i = i * b_h\n",
        "                    start_j = j * b_w\n",
        "                    end_i = start_i + b_h\n",
        "                    end_j = start_j + b_w\n",
        "                    doubly_blocked[start_i: end_i, start_j:end_j] = toeplitz_list[doubly_indices[i,j]-1]\n",
        "            input_h, input_w = I.shape\n",
        "            vectorized_I = np.zeros(input_h*input_w, dtype=np.float32)\n",
        "            I = np.flipud(I) \n",
        "            for i,row in enumerate(I):\n",
        "                st = i*input_w\n",
        "                nd = st + input_w\n",
        "                vectorized_I[st:nd] = row   \n",
        "            result_vector = np.matmul(doubly_blocked, vectorized_I)\n",
        "            out_shape = [output_row_num, output_col_num]\n",
        "            output = np.zeros(out_shape, dtype=result_vector.dtype)\n",
        "            for i in range(output_row_num):\n",
        "                st = i*output_col_num\n",
        "                nd = st + output_col_num\n",
        "                output[i, :] = result_vector[st:nd]\n",
        "            output=np.flipud(output)\n",
        "            return output[1:-1,1:-1]\n",
        "        # print(input.shape)\n",
        "        res = []\n",
        "        for i in range(self.filters):\n",
        "            res.append(_convolution_with_mul(input, self.w))\n",
        "        # print(tf.stack(res,axis=0).shape)\n",
        "        \n",
        "        \n",
        "        return tf.stack(res,axis=0)[0]\n",
        "\n",
        "\n",
        "class mnist_classifier(tf.keras.Model):\n",
        "    def __init__(self):\n",
        "        super(mnist_classifier, self).__init__()\n",
        "        self.conv2d_1 = conv2d(filters=32, kernel_size=(3,3))\n",
        "        self.conv2d_2 = conv2d(filters=64, kernel_size=(3,3))\n",
        "        self.dense_1 = tf.keras.layers.Dense(64, activation='relu')\n",
        "        self.dense_2 = tf.keras.layers.Dense(10, activation='sigmoid')\n",
        "\n",
        "    def call(self, inputs):\n",
        "        x = self.conv2d_1(inputs)\n",
        "        x = self.conv2d_2(x)\n",
        "        x = tf.keras.backend.flatten(x)\n",
        "        x = self.dense_1(x[None, :])\n",
        "        x = self.dense_2(x[None, :])\n",
        "        return x\n"
      ],
      "execution_count": null,
      "outputs": []
    },
    {
      "cell_type": "code",
      "metadata": {
        "id": "4Wh3lB4rBXm6",
        "colab": {
          "base_uri": "https://localhost:8080/",
          "height": 650
        },
        "outputId": "8d0228e3-e586-4293-b5ec-dbb1e5ccd4a3"
      },
      "source": [
        "from __future__ import print_function\n",
        "import keras\n",
        "from keras.datasets import mnist\n",
        "from keras import backend as K\n",
        "\n",
        "num_classes = 10\n",
        "epochs = 12\n",
        "\n",
        "img_rows, img_cols = 28, 28\n",
        "\n",
        "(x_train, y_train), (x_test, y_test) = mnist.load_data()\n",
        "\n",
        "# if K.image_data_format() == 'channels_first':\n",
        "#     x_train = x_train.reshape(x_train.shape[0], img_rows, img_cols)\n",
        "#     x_test = x_test.reshape(x_test.shape[0], img_rows, img_cols)\n",
        "#     input_shape = (1, img_rows, img_cols)\n",
        "# else:\n",
        "#     x_train = x_train.reshape(x_train.shape[0], img_rows, img_cols, 1)\n",
        "#     x_test = x_test.reshape(x_test.shape[0], img_rows, img_cols, 1)\n",
        "#     input_shape = (img_rows, img_cols, 1)\n",
        "\n",
        "\n",
        "x_train = x_train.reshape(x_train.shape[0], img_rows, img_cols)\n",
        "x_test = x_test.reshape(x_test.shape[0], img_rows, img_cols)\n",
        "\n",
        "x_train = x_train.astype('float32')\n",
        "x_test = x_test.astype('float32')\n",
        "x_train /= 255\n",
        "x_test /= 255\n",
        "y_train = keras.utils.to_categorical(y_train, num_classes)\n",
        "y_test = keras.utils.to_categorical(y_test, num_classes)\n",
        "# print(y_train.shape)\n",
        "model = mnist_classifier()\n",
        "\n",
        "optimizer = tf.keras.optimizers.Adam(learning_rate=1e-3)\n",
        "mse_loss_fn = tf.keras.losses.MeanSquaredError()\n",
        "loss_metric = tf.keras.metrics.Mean()\n",
        "\n",
        "m = tf.keras.metrics.Accuracy()\n",
        "for epoch in range(epochs):\n",
        "  for i in range(1000):\n",
        "    with tf.GradientTape() as tape:\n",
        "      res = model(x_train[i])\n",
        "      loss = mse_loss_fn(y_train[i], res)\n",
        "      loss += sum(model.losses)\n",
        "    #   m.update_state(y_train[i], res)\n",
        "    grads = tape.gradient(loss, model.trainable_weights)\n",
        "    optimizer.apply_gradients(zip(grads, model.trainable_weights))\n",
        "    print(\"loss: \", loss_metric.result())\n",
        "    # print(\"acc: \", m.result().numpy())\n",
        "\n",
        "    # m.reset_states()"
      ],
      "execution_count": null,
      "outputs": [
        {
          "output_type": "stream",
          "text": [
            "Using TensorFlow backend.\n"
          ],
          "name": "stderr"
        },
        {
          "output_type": "stream",
          "text": [
            "WARNING:tensorflow:Layer conv2d_1 is casting an input tensor from dtype float64 to the layer's dtype of float32, which is new behavior in TensorFlow 2.  The layer has dtype float32 because it's dtype defaults to floatx.\n",
            "\n",
            "If you intended to run this layer in float32, you can safely ignore this warning. If in doubt, this warning is likely only an issue if you are porting a TensorFlow 1.X model to TensorFlow 2.\n",
            "\n",
            "To change all layers to have dtype float64 by default, call `tf.keras.backend.set_floatx('float64')`. To change just this layer, pass dtype='float64' to the layer constructor. If you are the author of this layer, you can disable autocasting by passing autocast=False to the base Layer constructor.\n",
            "\n",
            "WARNING:tensorflow:Layer dense is casting an input tensor from dtype float64 to the layer's dtype of float32, which is new behavior in TensorFlow 2.  The layer has dtype float32 because it's dtype defaults to floatx.\n",
            "\n",
            "If you intended to run this layer in float32, you can safely ignore this warning. If in doubt, this warning is likely only an issue if you are porting a TensorFlow 1.X model to TensorFlow 2.\n",
            "\n",
            "To change all layers to have dtype float64 by default, call `tf.keras.backend.set_floatx('float64')`. To change just this layer, pass dtype='float64' to the layer constructor. If you are the author of this layer, you can disable autocasting by passing autocast=False to the base Layer constructor.\n",
            "\n",
            "WARNING:tensorflow:Gradients do not exist for variables ['mnist_classifier/conv2d/Variable:0', 'mnist_classifier/conv2d/Variable:0', 'mnist_classifier/conv2d/Variable:0', 'mnist_classifier/conv2d/Variable:0', 'mnist_classifier/conv2d/Variable:0', 'mnist_classifier/conv2d/Variable:0', 'mnist_classifier/conv2d/Variable:0', 'mnist_classifier/conv2d/Variable:0', 'mnist_classifier/conv2d/Variable:0', 'mnist_classifier/conv2d/Variable:0', 'mnist_classifier/conv2d/Variable:0', 'mnist_classifier/conv2d/Variable:0', 'mnist_classifier/conv2d/Variable:0', 'mnist_classifier/conv2d/Variable:0', 'mnist_classifier/conv2d/Variable:0', 'mnist_classifier/conv2d/Variable:0', 'mnist_classifier/conv2d/Variable:0', 'mnist_classifier/conv2d/Variable:0', 'mnist_classifier/conv2d/Variable:0', 'mnist_classifier/conv2d/Variable:0', 'mnist_classifier/conv2d/Variable:0', 'mnist_classifier/conv2d/Variable:0', 'mnist_classifier/conv2d/Variable:0', 'mnist_classifier/conv2d/Variable:0', 'mnist_classifier/conv2d/Variable:0', 'mnist_classifier/conv2d/Variable:0', 'mnist_classifier/conv2d/Variable:0', 'mnist_classifier/conv2d/Variable:0', 'mnist_classifier/conv2d/Variable:0', 'mnist_classifier/conv2d/Variable:0', 'mnist_classifier/conv2d/Variable:0', 'mnist_classifier/conv2d/Variable:0', 'mnist_classifier/conv2d_1/Variable:0', 'mnist_classifier/conv2d_1/Variable:0', 'mnist_classifier/conv2d_1/Variable:0', 'mnist_classifier/conv2d_1/Variable:0', 'mnist_classifier/conv2d_1/Variable:0', 'mnist_classifier/conv2d_1/Variable:0', 'mnist_classifier/conv2d_1/Variable:0', 'mnist_classifier/conv2d_1/Variable:0', 'mnist_classifier/conv2d_1/Variable:0', 'mnist_classifier/conv2d_1/Variable:0', 'mnist_classifier/conv2d_1/Variable:0', 'mnist_classifier/conv2d_1/Variable:0', 'mnist_classifier/conv2d_1/Variable:0', 'mnist_classifier/conv2d_1/Variable:0', 'mnist_classifier/conv2d_1/Variable:0', 'mnist_classifier/conv2d_1/Variable:0', 'mnist_classifier/conv2d_1/Variable:0', 'mnist_classifier/conv2d_1/Variable:0', 'mnist_classifier/conv2d_1/Variable:0', 'mnist_classifier/conv2d_1/Variable:0', 'mnist_classifier/conv2d_1/Variable:0', 'mnist_classifier/conv2d_1/Variable:0', 'mnist_classifier/conv2d_1/Variable:0', 'mnist_classifier/conv2d_1/Variable:0', 'mnist_classifier/conv2d_1/Variable:0', 'mnist_classifier/conv2d_1/Variable:0', 'mnist_classifier/conv2d_1/Variable:0', 'mnist_classifier/conv2d_1/Variable:0', 'mnist_classifier/conv2d_1/Variable:0', 'mnist_classifier/conv2d_1/Variable:0', 'mnist_classifier/conv2d_1/Variable:0', 'mnist_classifier/conv2d_1/Variable:0', 'mnist_classifier/conv2d_1/Variable:0', 'mnist_classifier/conv2d_1/Variable:0', 'mnist_classifier/conv2d_1/Variable:0', 'mnist_classifier/conv2d_1/Variable:0', 'mnist_classifier/conv2d_1/Variable:0', 'mnist_classifier/conv2d_1/Variable:0', 'mnist_classifier/conv2d_1/Variable:0', 'mnist_classifier/conv2d_1/Variable:0', 'mnist_classifier/conv2d_1/Variable:0', 'mnist_classifier/conv2d_1/Variable:0', 'mnist_classifier/conv2d_1/Variable:0', 'mnist_classifier/conv2d_1/Variable:0', 'mnist_classifier/conv2d_1/Variable:0', 'mnist_classifier/conv2d_1/Variable:0', 'mnist_classifier/conv2d_1/Variable:0', 'mnist_classifier/conv2d_1/Variable:0', 'mnist_classifier/conv2d_1/Variable:0', 'mnist_classifier/conv2d_1/Variable:0', 'mnist_classifier/conv2d_1/Variable:0', 'mnist_classifier/conv2d_1/Variable:0', 'mnist_classifier/conv2d_1/Variable:0', 'mnist_classifier/conv2d_1/Variable:0', 'mnist_classifier/conv2d_1/Variable:0', 'mnist_classifier/conv2d_1/Variable:0', 'mnist_classifier/conv2d_1/Variable:0', 'mnist_classifier/conv2d_1/Variable:0', 'mnist_classifier/conv2d_1/Variable:0', 'mnist_classifier/conv2d_1/Variable:0', 'mnist_classifier/conv2d_1/Variable:0', 'mnist_classifier/conv2d_1/Variable:0', 'mnist_classifier/conv2d_1/Variable:0', 'mnist_classifier/conv2d_1/Variable:0'] when minimizing the loss.\n",
            "loss:  tf.Tensor(0.0, shape=(), dtype=float32)\n"
          ],
          "name": "stdout"
        },
        {
          "output_type": "error",
          "ename": "KeyboardInterrupt",
          "evalue": "ignored",
          "traceback": [
            "\u001b[0;31m---------------------------------------------------------------------------\u001b[0m",
            "\u001b[0;31mKeyboardInterrupt\u001b[0m                         Traceback (most recent call last)",
            "\u001b[0;32m<ipython-input-3-3d2ac785caab>\u001b[0m in \u001b[0;36m<module>\u001b[0;34m()\u001b[0m\n\u001b[1;32m     41\u001b[0m   \u001b[0;32mfor\u001b[0m \u001b[0mi\u001b[0m \u001b[0;32min\u001b[0m \u001b[0mrange\u001b[0m\u001b[0;34m(\u001b[0m\u001b[0;36m1000\u001b[0m\u001b[0;34m)\u001b[0m\u001b[0;34m:\u001b[0m\u001b[0;34m\u001b[0m\u001b[0;34m\u001b[0m\u001b[0m\n\u001b[1;32m     42\u001b[0m     \u001b[0;32mwith\u001b[0m \u001b[0mtf\u001b[0m\u001b[0;34m.\u001b[0m\u001b[0mGradientTape\u001b[0m\u001b[0;34m(\u001b[0m\u001b[0;34m)\u001b[0m \u001b[0;32mas\u001b[0m \u001b[0mtape\u001b[0m\u001b[0;34m:\u001b[0m\u001b[0;34m\u001b[0m\u001b[0;34m\u001b[0m\u001b[0m\n\u001b[0;32m---> 43\u001b[0;31m       \u001b[0mres\u001b[0m \u001b[0;34m=\u001b[0m \u001b[0mmodel\u001b[0m\u001b[0;34m(\u001b[0m\u001b[0mx_train\u001b[0m\u001b[0;34m[\u001b[0m\u001b[0mi\u001b[0m\u001b[0;34m]\u001b[0m\u001b[0;34m)\u001b[0m\u001b[0;34m\u001b[0m\u001b[0;34m\u001b[0m\u001b[0m\n\u001b[0m\u001b[1;32m     44\u001b[0m       \u001b[0mloss\u001b[0m \u001b[0;34m=\u001b[0m \u001b[0mmse_loss_fn\u001b[0m\u001b[0;34m(\u001b[0m\u001b[0my_train\u001b[0m\u001b[0;34m[\u001b[0m\u001b[0mi\u001b[0m\u001b[0;34m]\u001b[0m\u001b[0;34m,\u001b[0m \u001b[0mres\u001b[0m\u001b[0;34m)\u001b[0m\u001b[0;34m\u001b[0m\u001b[0;34m\u001b[0m\u001b[0m\n\u001b[1;32m     45\u001b[0m       \u001b[0mloss\u001b[0m \u001b[0;34m+=\u001b[0m \u001b[0msum\u001b[0m\u001b[0;34m(\u001b[0m\u001b[0mmodel\u001b[0m\u001b[0;34m.\u001b[0m\u001b[0mlosses\u001b[0m\u001b[0;34m)\u001b[0m\u001b[0;34m\u001b[0m\u001b[0;34m\u001b[0m\u001b[0m\n",
            "\u001b[0;32m/tensorflow-2.1.0/python3.6/tensorflow_core/python/keras/engine/base_layer.py\u001b[0m in \u001b[0;36m__call__\u001b[0;34m(self, inputs, *args, **kwargs)\u001b[0m\n\u001b[1;32m    820\u001b[0m           with base_layer_utils.autocast_context_manager(\n\u001b[1;32m    821\u001b[0m               self._compute_dtype):\n\u001b[0;32m--> 822\u001b[0;31m             \u001b[0moutputs\u001b[0m \u001b[0;34m=\u001b[0m \u001b[0mself\u001b[0m\u001b[0;34m.\u001b[0m\u001b[0mcall\u001b[0m\u001b[0;34m(\u001b[0m\u001b[0mcast_inputs\u001b[0m\u001b[0;34m,\u001b[0m \u001b[0;34m*\u001b[0m\u001b[0margs\u001b[0m\u001b[0;34m,\u001b[0m \u001b[0;34m**\u001b[0m\u001b[0mkwargs\u001b[0m\u001b[0;34m)\u001b[0m\u001b[0;34m\u001b[0m\u001b[0;34m\u001b[0m\u001b[0m\n\u001b[0m\u001b[1;32m    823\u001b[0m           \u001b[0mself\u001b[0m\u001b[0;34m.\u001b[0m\u001b[0m_handle_activity_regularization\u001b[0m\u001b[0;34m(\u001b[0m\u001b[0minputs\u001b[0m\u001b[0;34m,\u001b[0m \u001b[0moutputs\u001b[0m\u001b[0;34m)\u001b[0m\u001b[0;34m\u001b[0m\u001b[0;34m\u001b[0m\u001b[0m\n\u001b[1;32m    824\u001b[0m           \u001b[0mself\u001b[0m\u001b[0;34m.\u001b[0m\u001b[0m_set_mask_metadata\u001b[0m\u001b[0;34m(\u001b[0m\u001b[0minputs\u001b[0m\u001b[0;34m,\u001b[0m \u001b[0moutputs\u001b[0m\u001b[0;34m,\u001b[0m \u001b[0minput_masks\u001b[0m\u001b[0;34m)\u001b[0m\u001b[0;34m\u001b[0m\u001b[0;34m\u001b[0m\u001b[0m\n",
            "\u001b[0;32m<ipython-input-2-960404108c71>\u001b[0m in \u001b[0;36mcall\u001b[0;34m(self, inputs)\u001b[0m\n\u001b[1;32m     87\u001b[0m     \u001b[0;32mdef\u001b[0m \u001b[0mcall\u001b[0m\u001b[0;34m(\u001b[0m\u001b[0mself\u001b[0m\u001b[0;34m,\u001b[0m \u001b[0minputs\u001b[0m\u001b[0;34m)\u001b[0m\u001b[0;34m:\u001b[0m\u001b[0;34m\u001b[0m\u001b[0;34m\u001b[0m\u001b[0m\n\u001b[1;32m     88\u001b[0m         \u001b[0mx\u001b[0m \u001b[0;34m=\u001b[0m \u001b[0mself\u001b[0m\u001b[0;34m.\u001b[0m\u001b[0mconv2d_1\u001b[0m\u001b[0;34m(\u001b[0m\u001b[0minputs\u001b[0m\u001b[0;34m)\u001b[0m\u001b[0;34m\u001b[0m\u001b[0;34m\u001b[0m\u001b[0m\n\u001b[0;32m---> 89\u001b[0;31m         \u001b[0mx\u001b[0m \u001b[0;34m=\u001b[0m \u001b[0mself\u001b[0m\u001b[0;34m.\u001b[0m\u001b[0mconv2d_2\u001b[0m\u001b[0;34m(\u001b[0m\u001b[0mx\u001b[0m\u001b[0;34m)\u001b[0m\u001b[0;34m\u001b[0m\u001b[0;34m\u001b[0m\u001b[0m\n\u001b[0m\u001b[1;32m     90\u001b[0m         \u001b[0mx\u001b[0m \u001b[0;34m=\u001b[0m \u001b[0mtf\u001b[0m\u001b[0;34m.\u001b[0m\u001b[0mkeras\u001b[0m\u001b[0;34m.\u001b[0m\u001b[0mbackend\u001b[0m\u001b[0;34m.\u001b[0m\u001b[0mflatten\u001b[0m\u001b[0;34m(\u001b[0m\u001b[0mx\u001b[0m\u001b[0;34m)\u001b[0m\u001b[0;34m\u001b[0m\u001b[0;34m\u001b[0m\u001b[0m\n\u001b[1;32m     91\u001b[0m         \u001b[0mx\u001b[0m \u001b[0;34m=\u001b[0m \u001b[0mself\u001b[0m\u001b[0;34m.\u001b[0m\u001b[0mdense_1\u001b[0m\u001b[0;34m(\u001b[0m\u001b[0mx\u001b[0m\u001b[0;34m[\u001b[0m\u001b[0;32mNone\u001b[0m\u001b[0;34m,\u001b[0m \u001b[0;34m:\u001b[0m\u001b[0;34m]\u001b[0m\u001b[0;34m)\u001b[0m\u001b[0;34m\u001b[0m\u001b[0;34m\u001b[0m\u001b[0m\n",
            "\u001b[0;32m/tensorflow-2.1.0/python3.6/tensorflow_core/python/keras/engine/base_layer.py\u001b[0m in \u001b[0;36m__call__\u001b[0;34m(self, inputs, *args, **kwargs)\u001b[0m\n\u001b[1;32m    820\u001b[0m           with base_layer_utils.autocast_context_manager(\n\u001b[1;32m    821\u001b[0m               self._compute_dtype):\n\u001b[0;32m--> 822\u001b[0;31m             \u001b[0moutputs\u001b[0m \u001b[0;34m=\u001b[0m \u001b[0mself\u001b[0m\u001b[0;34m.\u001b[0m\u001b[0mcall\u001b[0m\u001b[0;34m(\u001b[0m\u001b[0mcast_inputs\u001b[0m\u001b[0;34m,\u001b[0m \u001b[0;34m*\u001b[0m\u001b[0margs\u001b[0m\u001b[0;34m,\u001b[0m \u001b[0;34m**\u001b[0m\u001b[0mkwargs\u001b[0m\u001b[0;34m)\u001b[0m\u001b[0;34m\u001b[0m\u001b[0;34m\u001b[0m\u001b[0m\n\u001b[0m\u001b[1;32m    823\u001b[0m           \u001b[0mself\u001b[0m\u001b[0;34m.\u001b[0m\u001b[0m_handle_activity_regularization\u001b[0m\u001b[0;34m(\u001b[0m\u001b[0minputs\u001b[0m\u001b[0;34m,\u001b[0m \u001b[0moutputs\u001b[0m\u001b[0;34m)\u001b[0m\u001b[0;34m\u001b[0m\u001b[0;34m\u001b[0m\u001b[0m\n\u001b[1;32m    824\u001b[0m           \u001b[0mself\u001b[0m\u001b[0;34m.\u001b[0m\u001b[0m_set_mask_metadata\u001b[0m\u001b[0;34m(\u001b[0m\u001b[0minputs\u001b[0m\u001b[0;34m,\u001b[0m \u001b[0moutputs\u001b[0m\u001b[0;34m,\u001b[0m \u001b[0minput_masks\u001b[0m\u001b[0;34m)\u001b[0m\u001b[0;34m\u001b[0m\u001b[0;34m\u001b[0m\u001b[0m\n",
            "\u001b[0;32m<ipython-input-2-960404108c71>\u001b[0m in \u001b[0;36mcall\u001b[0;34m(self, input)\u001b[0m\n\u001b[1;32m     70\u001b[0m         \u001b[0mres\u001b[0m \u001b[0;34m=\u001b[0m \u001b[0;34m[\u001b[0m\u001b[0;34m]\u001b[0m\u001b[0;34m\u001b[0m\u001b[0;34m\u001b[0m\u001b[0m\n\u001b[1;32m     71\u001b[0m         \u001b[0;32mfor\u001b[0m \u001b[0mi\u001b[0m \u001b[0;32min\u001b[0m \u001b[0mrange\u001b[0m\u001b[0;34m(\u001b[0m\u001b[0mself\u001b[0m\u001b[0;34m.\u001b[0m\u001b[0mfilters\u001b[0m\u001b[0;34m)\u001b[0m\u001b[0;34m:\u001b[0m\u001b[0;34m\u001b[0m\u001b[0;34m\u001b[0m\u001b[0m\n\u001b[0;32m---> 72\u001b[0;31m             \u001b[0mres\u001b[0m\u001b[0;34m.\u001b[0m\u001b[0mappend\u001b[0m\u001b[0;34m(\u001b[0m\u001b[0m_convolution_with_mul\u001b[0m\u001b[0;34m(\u001b[0m\u001b[0minput\u001b[0m\u001b[0;34m,\u001b[0m \u001b[0mself\u001b[0m\u001b[0;34m.\u001b[0m\u001b[0mw\u001b[0m\u001b[0;34m)\u001b[0m\u001b[0;34m)\u001b[0m\u001b[0;34m\u001b[0m\u001b[0;34m\u001b[0m\u001b[0m\n\u001b[0m\u001b[1;32m     73\u001b[0m         \u001b[0;31m# print(tf.stack(res,axis=0).shape)\u001b[0m\u001b[0;34m\u001b[0m\u001b[0;34m\u001b[0m\u001b[0;34m\u001b[0m\u001b[0m\n\u001b[1;32m     74\u001b[0m \u001b[0;34m\u001b[0m\u001b[0m\n",
            "\u001b[0;32m<ipython-input-2-960404108c71>\u001b[0m in \u001b[0;36m_convolution_with_mul\u001b[0;34m(I, F)\u001b[0m\n\u001b[1;32m     32\u001b[0m             \u001b[0;32mfor\u001b[0m \u001b[0mi\u001b[0m \u001b[0;32min\u001b[0m \u001b[0mrange\u001b[0m\u001b[0;34m(\u001b[0m\u001b[0mF_zero_padded\u001b[0m\u001b[0;34m.\u001b[0m\u001b[0mshape\u001b[0m\u001b[0;34m[\u001b[0m\u001b[0;36m0\u001b[0m\u001b[0;34m]\u001b[0m\u001b[0;34m-\u001b[0m\u001b[0;36m1\u001b[0m\u001b[0;34m,\u001b[0m \u001b[0;34m-\u001b[0m\u001b[0;36m1\u001b[0m\u001b[0;34m,\u001b[0m \u001b[0;34m-\u001b[0m\u001b[0;36m1\u001b[0m\u001b[0;34m)\u001b[0m\u001b[0;34m:\u001b[0m\u001b[0;34m\u001b[0m\u001b[0;34m\u001b[0m\u001b[0m\n\u001b[1;32m     33\u001b[0m                 \u001b[0mc\u001b[0m \u001b[0;34m=\u001b[0m \u001b[0mF_zero_padded\u001b[0m\u001b[0;34m[\u001b[0m\u001b[0mi\u001b[0m\u001b[0;34m,\u001b[0m \u001b[0;34m:\u001b[0m\u001b[0;34m]\u001b[0m\u001b[0;34m\u001b[0m\u001b[0;34m\u001b[0m\u001b[0m\n\u001b[0;32m---> 34\u001b[0;31m                 \u001b[0mr\u001b[0m \u001b[0;34m=\u001b[0m \u001b[0mnp\u001b[0m\u001b[0;34m.\u001b[0m\u001b[0mr_\u001b[0m\u001b[0;34m[\u001b[0m\u001b[0mc\u001b[0m\u001b[0;34m[\u001b[0m\u001b[0;36m0\u001b[0m\u001b[0;34m]\u001b[0m\u001b[0;34m,\u001b[0m \u001b[0mnp\u001b[0m\u001b[0;34m.\u001b[0m\u001b[0mzeros\u001b[0m\u001b[0;34m(\u001b[0m\u001b[0mI_col_num\u001b[0m\u001b[0;34m-\u001b[0m\u001b[0;36m1\u001b[0m\u001b[0;34m)\u001b[0m\u001b[0;34m]\u001b[0m\u001b[0;34m\u001b[0m\u001b[0;34m\u001b[0m\u001b[0m\n\u001b[0m\u001b[1;32m     35\u001b[0m                 \u001b[0mtoeplitz_m\u001b[0m \u001b[0;34m=\u001b[0m \u001b[0mtoeplitz\u001b[0m\u001b[0;34m(\u001b[0m\u001b[0mc\u001b[0m\u001b[0;34m,\u001b[0m\u001b[0mr\u001b[0m\u001b[0;34m)\u001b[0m\u001b[0;34m\u001b[0m\u001b[0;34m\u001b[0m\u001b[0m\n\u001b[1;32m     36\u001b[0m                 \u001b[0mtoeplitz_list\u001b[0m\u001b[0;34m.\u001b[0m\u001b[0mappend\u001b[0m\u001b[0;34m(\u001b[0m\u001b[0mtoeplitz_m\u001b[0m\u001b[0;34m)\u001b[0m\u001b[0;34m\u001b[0m\u001b[0;34m\u001b[0m\u001b[0m\n",
            "\u001b[0;32m/usr/local/lib/python3.6/dist-packages/numpy/lib/index_tricks.py\u001b[0m in \u001b[0;36m__getitem__\u001b[0;34m(self, key)\u001b[0m\n\u001b[1;32m    385\u001b[0m             \u001b[0;32melse\u001b[0m\u001b[0;34m:\u001b[0m\u001b[0;34m\u001b[0m\u001b[0;34m\u001b[0m\u001b[0m\n\u001b[1;32m    386\u001b[0m                 \u001b[0mitem_ndim\u001b[0m \u001b[0;34m=\u001b[0m \u001b[0mndim\u001b[0m\u001b[0;34m(\u001b[0m\u001b[0mitem\u001b[0m\u001b[0;34m)\u001b[0m\u001b[0;34m\u001b[0m\u001b[0;34m\u001b[0m\u001b[0m\n\u001b[0;32m--> 387\u001b[0;31m                 \u001b[0mnewobj\u001b[0m \u001b[0;34m=\u001b[0m \u001b[0marray\u001b[0m\u001b[0;34m(\u001b[0m\u001b[0mitem\u001b[0m\u001b[0;34m,\u001b[0m \u001b[0mcopy\u001b[0m\u001b[0;34m=\u001b[0m\u001b[0;32mFalse\u001b[0m\u001b[0;34m,\u001b[0m \u001b[0msubok\u001b[0m\u001b[0;34m=\u001b[0m\u001b[0;32mTrue\u001b[0m\u001b[0;34m,\u001b[0m \u001b[0mndmin\u001b[0m\u001b[0;34m=\u001b[0m\u001b[0mndmin\u001b[0m\u001b[0;34m)\u001b[0m\u001b[0;34m\u001b[0m\u001b[0;34m\u001b[0m\u001b[0m\n\u001b[0m\u001b[1;32m    388\u001b[0m                 \u001b[0;32mif\u001b[0m \u001b[0mtrans1d\u001b[0m \u001b[0;34m!=\u001b[0m \u001b[0;34m-\u001b[0m\u001b[0;36m1\u001b[0m \u001b[0;32mand\u001b[0m \u001b[0mitem_ndim\u001b[0m \u001b[0;34m<\u001b[0m \u001b[0mndmin\u001b[0m\u001b[0;34m:\u001b[0m\u001b[0;34m\u001b[0m\u001b[0;34m\u001b[0m\u001b[0m\n\u001b[1;32m    389\u001b[0m                     \u001b[0mk2\u001b[0m \u001b[0;34m=\u001b[0m \u001b[0mndmin\u001b[0m \u001b[0;34m-\u001b[0m \u001b[0mitem_ndim\u001b[0m\u001b[0;34m\u001b[0m\u001b[0;34m\u001b[0m\u001b[0m\n",
            "\u001b[0;31mKeyboardInterrupt\u001b[0m: "
          ]
        }
      ]
    },
    {
      "cell_type": "markdown",
      "metadata": {
        "id": "tXo0f6BgZhYU"
      },
      "source": [
        "## References\n",
        "\n",
        "\n",
        "---\n",
        "\n"
      ]
    },
    {
      "cell_type": "markdown",
      "metadata": {
        "id": "KfUQc2aEYswq"
      },
      "source": [
        "\n",
        "\n",
        "*   Broadcasting in Python https://www.youtube.com/watch?v=tKcLaGdvabM\n",
        "*   https://colab.research.google.com/notebooks/mlcc/creating_and_manipulating_tensors.ipynb#scrollTo=ocwT0iXH-nhT\n",
        "*   https://tensorflow.org\n",
        "*   http://web.stanford.edu/class/cs20si/\n",
        "\n"
      ]
    }
  ]
}